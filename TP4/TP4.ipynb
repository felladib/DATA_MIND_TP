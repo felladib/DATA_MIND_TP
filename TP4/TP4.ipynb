{
 "cells": [
  {
   "cell_type": "code",
   "execution_count": 1,
   "metadata": {},
   "outputs": [
    {
     "ename": "ImportError",
     "evalue": "DLL load failed while importing _multiarray_umath: Le module spécifié est introuvable.",
     "output_type": "error",
     "traceback": [
      "\u001b[1;31m---------------------------------------------------------------------------\u001b[0m",
      "\u001b[1;31mImportError\u001b[0m                               Traceback (most recent call last)",
      "\u001b[1;31mImportError\u001b[0m: DLL load failed while importing _multiarray_umath: Le module spécifié est introuvable."
     ]
    },
    {
     "ename": "ImportError",
     "evalue": "DLL load failed while importing _multiarray_umath: Le module spécifié est introuvable.",
     "output_type": "error",
     "traceback": [
      "\u001b[1;31m---------------------------------------------------------------------------\u001b[0m",
      "\u001b[1;31mImportError\u001b[0m                               Traceback (most recent call last)",
      "\u001b[1;31mImportError\u001b[0m: DLL load failed while importing _multiarray_umath: Le module spécifié est introuvable."
     ]
    },
    {
     "ename": "ImportError",
     "evalue": "DLL load failed while importing _multiarray_umath: Le module spécifié est introuvable.",
     "output_type": "error",
     "traceback": [
      "\u001b[1;31m---------------------------------------------------------------------------\u001b[0m",
      "\u001b[1;31mImportError\u001b[0m                               Traceback (most recent call last)",
      "\u001b[1;31mImportError\u001b[0m: DLL load failed while importing _multiarray_umath: Le module spécifié est introuvable."
     ]
    }
   ],
   "source": [
    "import pandas as pd\n",
    "import numpy as np\n",
    "from collections import Counter\n",
    "import seaborn as sns\n",
    "import matplotlib.pyplot as plt"
   ]
  },
  {
   "cell_type": "code",
   "execution_count": 32,
   "metadata": {},
   "outputs": [],
   "source": [
    "data_path = '..//DATA//DatasetExos.csv'"
   ]
  },
  {
   "cell_type": "code",
   "execution_count": 33,
   "metadata": {},
   "outputs": [],
   "source": [
    "def load_data(path):\n",
    "    try:\n",
    "        data = pd.read_csv(path , sep=',')\n",
    "        return data\n",
    "    except Exception as e:\n",
    "      print(f\"Une erreur s'est produite : {e}\")"
   ]
  },
  {
   "cell_type": "code",
   "execution_count": 34,
   "metadata": {},
   "outputs": [],
   "source": [
    "data = load_data(data_path)"
   ]
  },
  {
   "cell_type": "code",
   "execution_count": 35,
   "metadata": {},
   "outputs": [
    {
     "data": {
      "text/html": [
       "<div>\n",
       "<style scoped>\n",
       "    .dataframe tbody tr th:only-of-type {\n",
       "        vertical-align: middle;\n",
       "    }\n",
       "\n",
       "    .dataframe tbody tr th {\n",
       "        vertical-align: top;\n",
       "    }\n",
       "\n",
       "    .dataframe thead th {\n",
       "        text-align: right;\n",
       "    }\n",
       "</style>\n",
       "<table border=\"1\" class=\"dataframe\">\n",
       "  <thead>\n",
       "    <tr style=\"text-align: right;\">\n",
       "      <th></th>\n",
       "      <th>ep (ms)</th>\n",
       "      <th>Acc_x</th>\n",
       "      <th>Acc_y</th>\n",
       "      <th>Acc_z</th>\n",
       "      <th>Gyro_x</th>\n",
       "      <th>Gyro_y</th>\n",
       "      <th>Gyro_z</th>\n",
       "      <th>ID</th>\n",
       "      <th>Exercise</th>\n",
       "      <th>Category</th>\n",
       "      <th>Set</th>\n",
       "    </tr>\n",
       "  </thead>\n",
       "  <tbody>\n",
       "    <tr>\n",
       "      <th>0</th>\n",
       "      <td>2019-01-11 15:08:05.200</td>\n",
       "      <td>0.013500</td>\n",
       "      <td>0.977000</td>\n",
       "      <td>-0.071000</td>\n",
       "      <td>-1.8904</td>\n",
       "      <td>2.4392</td>\n",
       "      <td>0.9388</td>\n",
       "      <td>B</td>\n",
       "      <td>bench</td>\n",
       "      <td>heavy</td>\n",
       "      <td>30.0</td>\n",
       "    </tr>\n",
       "    <tr>\n",
       "      <th>1</th>\n",
       "      <td>2019-01-11 15:08:05.400</td>\n",
       "      <td>-0.001500</td>\n",
       "      <td>0.970500</td>\n",
       "      <td>-0.079500</td>\n",
       "      <td>-1.6826</td>\n",
       "      <td>-0.8904</td>\n",
       "      <td>2.1708</td>\n",
       "      <td>B</td>\n",
       "      <td>bench</td>\n",
       "      <td>heavy</td>\n",
       "      <td>30.0</td>\n",
       "    </tr>\n",
       "    <tr>\n",
       "      <th>2</th>\n",
       "      <td>2019-01-11 15:08:05.600</td>\n",
       "      <td>0.001333</td>\n",
       "      <td>0.971667</td>\n",
       "      <td>-0.064333</td>\n",
       "      <td>2.5608</td>\n",
       "      <td>-0.2560</td>\n",
       "      <td>-1.4146</td>\n",
       "      <td>B</td>\n",
       "      <td>bench</td>\n",
       "      <td>heavy</td>\n",
       "      <td>30.0</td>\n",
       "    </tr>\n",
       "    <tr>\n",
       "      <th>3</th>\n",
       "      <td>2019-01-11 15:08:05.800</td>\n",
       "      <td>-0.024000</td>\n",
       "      <td>0.957000</td>\n",
       "      <td>-0.073500</td>\n",
       "      <td>8.0610</td>\n",
       "      <td>-4.5244</td>\n",
       "      <td>-2.0730</td>\n",
       "      <td>B</td>\n",
       "      <td>bench</td>\n",
       "      <td>heavy</td>\n",
       "      <td>30.0</td>\n",
       "    </tr>\n",
       "    <tr>\n",
       "      <th>4</th>\n",
       "      <td>2019-01-11 15:08:06.000</td>\n",
       "      <td>-0.028000</td>\n",
       "      <td>0.957667</td>\n",
       "      <td>-0.115000</td>\n",
       "      <td>2.4390</td>\n",
       "      <td>-1.5486</td>\n",
       "      <td>-3.6098</td>\n",
       "      <td>B</td>\n",
       "      <td>bench</td>\n",
       "      <td>heavy</td>\n",
       "      <td>30.0</td>\n",
       "    </tr>\n",
       "  </tbody>\n",
       "</table>\n",
       "</div>"
      ],
      "text/plain": [
       "                   ep (ms)     Acc_x     Acc_y     Acc_z  Gyro_x  Gyro_y  \\\n",
       "0  2019-01-11 15:08:05.200  0.013500  0.977000 -0.071000 -1.8904  2.4392   \n",
       "1  2019-01-11 15:08:05.400 -0.001500  0.970500 -0.079500 -1.6826 -0.8904   \n",
       "2  2019-01-11 15:08:05.600  0.001333  0.971667 -0.064333  2.5608 -0.2560   \n",
       "3  2019-01-11 15:08:05.800 -0.024000  0.957000 -0.073500  8.0610 -4.5244   \n",
       "4  2019-01-11 15:08:06.000 -0.028000  0.957667 -0.115000  2.4390 -1.5486   \n",
       "\n",
       "   Gyro_z ID Exercise Category   Set  \n",
       "0  0.9388  B    bench    heavy  30.0  \n",
       "1  2.1708  B    bench    heavy  30.0  \n",
       "2 -1.4146  B    bench    heavy  30.0  \n",
       "3 -2.0730  B    bench    heavy  30.0  \n",
       "4 -3.6098  B    bench    heavy  30.0  "
      ]
     },
     "execution_count": 35,
     "metadata": {},
     "output_type": "execute_result"
    }
   ],
   "source": [
    "data.head(5)"
   ]
  },
  {
   "cell_type": "code",
   "execution_count": 36,
   "metadata": {},
   "outputs": [],
   "source": [
    "# data = data.drop(columns=['Acc_x', 'Acc_y'])\n",
    "data = data.drop(data.columns[0:7], axis=1)"
   ]
  },
  {
   "cell_type": "code",
   "execution_count": 37,
   "metadata": {},
   "outputs": [],
   "source": [
    "data = data.dropna(subset=['Category','Set'])"
   ]
  },
  {
   "cell_type": "code",
   "execution_count": 38,
   "metadata": {},
   "outputs": [
    {
     "data": {
      "text/html": [
       "<div>\n",
       "<style scoped>\n",
       "    .dataframe tbody tr th:only-of-type {\n",
       "        vertical-align: middle;\n",
       "    }\n",
       "\n",
       "    .dataframe tbody tr th {\n",
       "        vertical-align: top;\n",
       "    }\n",
       "\n",
       "    .dataframe thead th {\n",
       "        text-align: right;\n",
       "    }\n",
       "</style>\n",
       "<table border=\"1\" class=\"dataframe\">\n",
       "  <thead>\n",
       "    <tr style=\"text-align: right;\">\n",
       "      <th></th>\n",
       "      <th>ID</th>\n",
       "      <th>Exercise</th>\n",
       "      <th>Category</th>\n",
       "      <th>Set</th>\n",
       "    </tr>\n",
       "  </thead>\n",
       "  <tbody>\n",
       "    <tr>\n",
       "      <th>0</th>\n",
       "      <td>B</td>\n",
       "      <td>bench</td>\n",
       "      <td>heavy</td>\n",
       "      <td>30.0</td>\n",
       "    </tr>\n",
       "    <tr>\n",
       "      <th>1</th>\n",
       "      <td>B</td>\n",
       "      <td>bench</td>\n",
       "      <td>heavy</td>\n",
       "      <td>30.0</td>\n",
       "    </tr>\n",
       "    <tr>\n",
       "      <th>2</th>\n",
       "      <td>B</td>\n",
       "      <td>bench</td>\n",
       "      <td>heavy</td>\n",
       "      <td>30.0</td>\n",
       "    </tr>\n",
       "    <tr>\n",
       "      <th>3</th>\n",
       "      <td>B</td>\n",
       "      <td>bench</td>\n",
       "      <td>heavy</td>\n",
       "      <td>30.0</td>\n",
       "    </tr>\n",
       "    <tr>\n",
       "      <th>4</th>\n",
       "      <td>B</td>\n",
       "      <td>bench</td>\n",
       "      <td>heavy</td>\n",
       "      <td>30.0</td>\n",
       "    </tr>\n",
       "  </tbody>\n",
       "</table>\n",
       "</div>"
      ],
      "text/plain": [
       "  ID Exercise Category   Set\n",
       "0  B    bench    heavy  30.0\n",
       "1  B    bench    heavy  30.0\n",
       "2  B    bench    heavy  30.0\n",
       "3  B    bench    heavy  30.0\n",
       "4  B    bench    heavy  30.0"
      ]
     },
     "execution_count": 38,
     "metadata": {},
     "output_type": "execute_result"
    }
   ],
   "source": [
    "data.head(5)"
   ]
  },
  {
   "cell_type": "code",
   "execution_count": 45,
   "metadata": {},
   "outputs": [],
   "source": [
    "unique_ID = np.unique(data['ID'])"
   ]
  },
  {
   "cell_type": "code",
   "execution_count": 46,
   "metadata": {},
   "outputs": [],
   "source": [
    "unique_Ex = np.unique(data['Exercise'])"
   ]
  },
  {
   "cell_type": "code",
   "execution_count": 47,
   "metadata": {},
   "outputs": [],
   "source": [
    "unique_Cat = np.unique(data['Category'])"
   ]
  },
  {
   "cell_type": "code",
   "execution_count": 48,
   "metadata": {},
   "outputs": [],
   "source": [
    "unique_Set = np.unique(data['Set'])"
   ]
  },
  {
   "cell_type": "code",
   "execution_count": 43,
   "metadata": {},
   "outputs": [
    {
     "name": "stdout",
     "output_type": "stream",
     "text": [
      "['A' 'B' 'C' 'D' 'E']\n",
      "['bench' 'dead' 'ohp' 'raw' 'rest' 'reste' 'row' 'squat']\n",
      "['heav' 'heavy' 'medium' 'sitting' 'standing']\n",
      "[  1.   2.   3.   4.   5.   6.   7.   8.   9.  10.  11.  12.  13.  14.\n",
      "  15.  16.  17.  18.  19.  20.  21.  22.  23.  24.  25.  26.  27.  28.\n",
      "  29.  30.  31.  32.  33.  34.  35.  36.  37.  38.  39.  40.  41.  42.\n",
      "  43.  44.  45.  47.  48.  49.  50.  51.  52.  53.  54.  55.  56.  57.\n",
      "  58.  60.  61.  62.  63.  64.  65.  66.  67.  68.  69.  70.  71.  72.\n",
      "  73.  74.  75.  76.  77.  78.  79.  80.  81.  82.  83.  84.  85.  86.\n",
      "  87.  88.  89.  90.  91.  92.  93. 111.]\n"
     ]
    }
   ],
   "source": [
    "print(unique_ID)\n",
    "print(unique_Ex)\n",
    "print(unique_Cat)\n",
    "print(unique_Set)\n"
   ]
  },
  {
   "cell_type": "code",
   "execution_count": 44,
   "metadata": {},
   "outputs": [],
   "source": [
    "data = data.replace({'heav': 'heavy', 'raw': 'row' , 'reste':'rest'})"
   ]
  },
  {
   "cell_type": "code",
   "execution_count": 49,
   "metadata": {},
   "outputs": [
    {
     "name": "stdout",
     "output_type": "stream",
     "text": [
      "['A' 'B' 'C' 'D' 'E']\n",
      "['bench' 'dead' 'ohp' 'rest' 'row' 'squat']\n",
      "['heavy' 'medium' 'sitting' 'standing']\n",
      "[  1.   2.   3.   4.   5.   6.   7.   8.   9.  10.  11.  12.  13.  14.\n",
      "  15.  16.  17.  18.  19.  20.  21.  22.  23.  24.  25.  26.  27.  28.\n",
      "  29.  30.  31.  32.  33.  34.  35.  36.  37.  38.  39.  40.  41.  42.\n",
      "  43.  44.  45.  47.  48.  49.  50.  51.  52.  53.  54.  55.  56.  57.\n",
      "  58.  60.  61.  62.  63.  64.  65.  66.  67.  68.  69.  70.  71.  72.\n",
      "  73.  74.  75.  76.  77.  78.  79.  80.  81.  82.  83.  84.  85.  86.\n",
      "  87.  88.  89.  90.  91.  92.  93. 111.]\n"
     ]
    }
   ],
   "source": [
    "print(unique_ID)\n",
    "print(unique_Ex)\n",
    "print(unique_Cat)\n",
    "print(unique_Set)"
   ]
  },
  {
   "cell_type": "code",
   "execution_count": 50,
   "metadata": {},
   "outputs": [
    {
     "name": "stdout",
     "output_type": "stream",
     "text": [
      "     ID Exercise  Category   Set\n",
      "85    A    bench     heavy  86.0\n",
      "86    A    bench     heavy  86.0\n",
      "87    A    bench     heavy  86.0\n",
      "88    A    bench     heavy  86.0\n",
      "89    A    bench     heavy  86.0\n",
      "...  ..      ...       ...   ...\n",
      "8121  A     rest  standing  51.0\n",
      "8122  A     rest  standing  51.0\n",
      "8123  A     rest  standing  51.0\n",
      "8124  A     rest  standing  51.0\n",
      "8125  A     rest  standing  51.0\n",
      "\n",
      "[2988 rows x 4 columns]\n"
     ]
    }
   ],
   "source": [
    "print(data[data['ID'] == 'A'])"
   ]
  },
  {
   "cell_type": "code",
   "execution_count": 51,
   "metadata": {},
   "outputs": [
    {
     "name": "stdout",
     "output_type": "stream",
     "text": [
      "for bench :\n",
      "['A' 'B' 'C' 'D' 'E']\n",
      "['heavy' 'medium']\n",
      "for dead :\n",
      "['A' 'C' 'E']\n",
      "['heavy' 'medium']\n",
      "for ohp :\n",
      "['A' 'B' 'C' 'E']\n",
      "['heavy' 'medium']\n",
      "for rest :\n",
      "['A' 'E']\n",
      "['sitting' 'standing']\n",
      "for row :\n",
      "['A' 'C' 'D' 'E']\n",
      "['heavy' 'medium']\n",
      "for squat :\n",
      "['A' 'B' 'C' 'D' 'E']\n",
      "['heavy' 'medium']\n"
     ]
    }
   ],
   "source": [
    "for ex in np.unique(data['Exercise']):\n",
    "    dataA = data[data['Exercise'] == ex]\n",
    "    print (f\"for {ex} :\")\n",
    "    # print(np.unique(dataA['Set']))\n",
    "    print(np.unique(dataA['ID']))\n",
    "    print(np.unique(dataA['Category']))"
   ]
  },
  {
   "cell_type": "code",
   "execution_count": 52,
   "metadata": {},
   "outputs": [
    {
     "name": "stdout",
     "output_type": "stream",
     "text": [
      "for A :\n",
      "['bench' 'dead' 'ohp' 'rest' 'row' 'squat']\n",
      "['heavy' 'medium' 'sitting' 'standing']\n",
      "for B :\n",
      "['bench' 'ohp' 'squat']\n",
      "['heavy' 'medium']\n",
      "for C :\n",
      "['bench' 'dead' 'ohp' 'row' 'squat']\n",
      "['heavy' 'medium']\n",
      "for D :\n",
      "['bench' 'row' 'squat']\n",
      "['heavy' 'medium']\n",
      "for E :\n",
      "['bench' 'dead' 'ohp' 'rest' 'row' 'squat']\n",
      "['heavy' 'medium' 'sitting' 'standing']\n"
     ]
    }
   ],
   "source": [
    "for id in np.unique(data['ID']):\n",
    "    dataA = data[data['ID'] == id]\n",
    "    print (f\"for {id} :\")\n",
    "    # print(np.unique(dataA['Set']))\n",
    "    print(np.unique(dataA['Exercise']))\n",
    "    print(np.unique(dataA['Category']))"
   ]
  },
  {
   "cell_type": "code",
   "execution_count": 53,
   "metadata": {},
   "outputs": [
    {
     "name": "stdout",
     "output_type": "stream",
     "text": [
      "for heavy :\n",
      "['bench' 'dead' 'ohp' 'row' 'squat']\n",
      "['A' 'B' 'C' 'D' 'E']\n",
      "for medium :\n",
      "['bench' 'dead' 'ohp' 'row' 'squat']\n",
      "['A' 'B' 'C' 'D' 'E']\n",
      "for sitting :\n",
      "['rest']\n",
      "['A' 'E']\n",
      "for standing :\n",
      "['rest']\n",
      "['A' 'E']\n"
     ]
    }
   ],
   "source": [
    "for cat in np.unique(data['Category']):\n",
    "    dataA = data[data['Category'] == cat]\n",
    "    print (f\"for {cat} :\")\n",
    "    # print(np.unique(dataA['Set']))\n",
    "    print(np.unique(dataA['Exercise']))\n",
    "    print(np.unique(dataA['ID']))"
   ]
  },
  {
   "cell_type": "code",
   "execution_count": 54,
   "metadata": {},
   "outputs": [
    {
     "name": "stdout",
     "output_type": "stream",
     "text": [
      "Nombre de transactions : 5\n"
     ]
    }
   ],
   "source": [
    "num_transactions = len(data['ID'].unique())\n",
    "print(f\"Nombre de transactions : {num_transactions}\")"
   ]
  },
  {
   "cell_type": "code",
   "execution_count": 55,
   "metadata": {},
   "outputs": [
    {
     "name": "stdout",
     "output_type": "stream",
     "text": [
      "Nombre d'items : 6\n"
     ]
    }
   ],
   "source": [
    "num_items = len(data['Exercise'].unique())\n",
    "print(f\"Nombre d'items : {num_items}\")"
   ]
  },
  {
   "cell_type": "code",
   "execution_count": 56,
   "metadata": {},
   "outputs": [
    {
     "name": "stdout",
     "output_type": "stream",
     "text": [
      "  Transaction_ID                                 Items\n",
      "0              A  [rest, row, ohp, bench, squat, dead]\n",
      "1              B                   [ohp, bench, squat]\n",
      "2              C        [row, ohp, bench, squat, dead]\n",
      "3              D                   [bench, row, squat]\n",
      "4              E  [rest, row, ohp, bench, squat, dead]\n"
     ]
    }
   ],
   "source": [
    "# Group by ID and aggregate unique Exercises into a list\n",
    "dataset_exos_2 = data.groupby('ID')['Exercise'].apply(lambda x: list(set(x))).reset_index()\n",
    "dataset_exos_2.columns = ['Transaction_ID', 'Items']\n",
    "print(dataset_exos_2)\n"
   ]
  },
  {
   "cell_type": "markdown",
   "metadata": {},
   "source": [
    "1- Write a function to generate the k-itemset candidates Ck\n"
   ]
  },
  {
   "cell_type": "code",
   "execution_count": null,
   "metadata": {},
   "outputs": [],
   "source": [
    "def supp_min(support_min):\n",
    "    pass"
   ]
  },
  {
   "cell_type": "markdown",
   "metadata": {},
   "source": [
    "2- Write a function to calculate the support of the k-itemsets C"
   ]
  },
  {
   "cell_type": "markdown",
   "metadata": {},
   "source": []
  },
  {
   "cell_type": "markdown",
   "metadata": {},
   "source": [
    "3- Write a function to generate the frequent k-itemsets Lk\n"
   ]
  },
  {
   "cell_type": "markdown",
   "metadata": {},
   "source": []
  }
 ],
 "metadata": {
  "kernelspec": {
   "display_name": "ML",
   "language": "python",
   "name": "python3"
  },
  "language_info": {
   "codemirror_mode": {
    "name": "ipython",
    "version": 3
   },
   "file_extension": ".py",
   "mimetype": "text/x-python",
   "name": "python",
   "nbconvert_exporter": "python",
   "pygments_lexer": "ipython3",
   "version": "3.10.13"
  }
 },
 "nbformat": 4,
 "nbformat_minor": 2
}
