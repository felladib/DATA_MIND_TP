{
 "cells": [
  {
   "cell_type": "code",
   "execution_count": 2,
   "metadata": {},
   "outputs": [],
   "source": [
    "import pandas as pd\n",
    "import numpy as np\n",
    "from collections import Counter\n",
    "import seaborn as sns\n",
    "import matplotlib.pyplot as plt\n",
    "import itertools\n"
   ]
  },
  {
   "cell_type": "code",
   "execution_count": 3,
   "metadata": {},
   "outputs": [],
   "source": [
    "data_path = '..//DATA//DatasetExos.csv'"
   ]
  },
  {
   "cell_type": "code",
   "execution_count": 4,
   "metadata": {},
   "outputs": [],
   "source": [
    "def load_data(path):\n",
    "    try:\n",
    "        data = pd.read_csv(path , sep=',')\n",
    "        return data\n",
    "    except Exception as e:\n",
    "      print(f\"Une erreur s'est produite : {e}\")"
   ]
  },
  {
   "cell_type": "code",
   "execution_count": 5,
   "metadata": {},
   "outputs": [],
   "source": [
    "data = load_data(data_path)"
   ]
  },
  {
   "cell_type": "code",
   "execution_count": 6,
   "metadata": {},
   "outputs": [
    {
     "data": {
      "text/html": [
       "<div>\n",
       "<style scoped>\n",
       "    .dataframe tbody tr th:only-of-type {\n",
       "        vertical-align: middle;\n",
       "    }\n",
       "\n",
       "    .dataframe tbody tr th {\n",
       "        vertical-align: top;\n",
       "    }\n",
       "\n",
       "    .dataframe thead th {\n",
       "        text-align: right;\n",
       "    }\n",
       "</style>\n",
       "<table border=\"1\" class=\"dataframe\">\n",
       "  <thead>\n",
       "    <tr style=\"text-align: right;\">\n",
       "      <th></th>\n",
       "      <th>ep (ms)</th>\n",
       "      <th>Acc_x</th>\n",
       "      <th>Acc_y</th>\n",
       "      <th>Acc_z</th>\n",
       "      <th>Gyro_x</th>\n",
       "      <th>Gyro_y</th>\n",
       "      <th>Gyro_z</th>\n",
       "      <th>ID</th>\n",
       "      <th>Exercise</th>\n",
       "      <th>Category</th>\n",
       "      <th>Set</th>\n",
       "    </tr>\n",
       "  </thead>\n",
       "  <tbody>\n",
       "    <tr>\n",
       "      <th>0</th>\n",
       "      <td>2019-01-11 15:08:05.200</td>\n",
       "      <td>0.013500</td>\n",
       "      <td>0.977000</td>\n",
       "      <td>-0.071000</td>\n",
       "      <td>-1.8904</td>\n",
       "      <td>2.4392</td>\n",
       "      <td>0.9388</td>\n",
       "      <td>B</td>\n",
       "      <td>bench</td>\n",
       "      <td>heavy</td>\n",
       "      <td>30.0</td>\n",
       "    </tr>\n",
       "    <tr>\n",
       "      <th>1</th>\n",
       "      <td>2019-01-11 15:08:05.400</td>\n",
       "      <td>-0.001500</td>\n",
       "      <td>0.970500</td>\n",
       "      <td>-0.079500</td>\n",
       "      <td>-1.6826</td>\n",
       "      <td>-0.8904</td>\n",
       "      <td>2.1708</td>\n",
       "      <td>B</td>\n",
       "      <td>bench</td>\n",
       "      <td>heavy</td>\n",
       "      <td>30.0</td>\n",
       "    </tr>\n",
       "    <tr>\n",
       "      <th>2</th>\n",
       "      <td>2019-01-11 15:08:05.600</td>\n",
       "      <td>0.001333</td>\n",
       "      <td>0.971667</td>\n",
       "      <td>-0.064333</td>\n",
       "      <td>2.5608</td>\n",
       "      <td>-0.2560</td>\n",
       "      <td>-1.4146</td>\n",
       "      <td>B</td>\n",
       "      <td>bench</td>\n",
       "      <td>heavy</td>\n",
       "      <td>30.0</td>\n",
       "    </tr>\n",
       "    <tr>\n",
       "      <th>3</th>\n",
       "      <td>2019-01-11 15:08:05.800</td>\n",
       "      <td>-0.024000</td>\n",
       "      <td>0.957000</td>\n",
       "      <td>-0.073500</td>\n",
       "      <td>8.0610</td>\n",
       "      <td>-4.5244</td>\n",
       "      <td>-2.0730</td>\n",
       "      <td>B</td>\n",
       "      <td>bench</td>\n",
       "      <td>heavy</td>\n",
       "      <td>30.0</td>\n",
       "    </tr>\n",
       "    <tr>\n",
       "      <th>4</th>\n",
       "      <td>2019-01-11 15:08:06.000</td>\n",
       "      <td>-0.028000</td>\n",
       "      <td>0.957667</td>\n",
       "      <td>-0.115000</td>\n",
       "      <td>2.4390</td>\n",
       "      <td>-1.5486</td>\n",
       "      <td>-3.6098</td>\n",
       "      <td>B</td>\n",
       "      <td>bench</td>\n",
       "      <td>heavy</td>\n",
       "      <td>30.0</td>\n",
       "    </tr>\n",
       "  </tbody>\n",
       "</table>\n",
       "</div>"
      ],
      "text/plain": [
       "                   ep (ms)     Acc_x     Acc_y     Acc_z  Gyro_x  Gyro_y  \\\n",
       "0  2019-01-11 15:08:05.200  0.013500  0.977000 -0.071000 -1.8904  2.4392   \n",
       "1  2019-01-11 15:08:05.400 -0.001500  0.970500 -0.079500 -1.6826 -0.8904   \n",
       "2  2019-01-11 15:08:05.600  0.001333  0.971667 -0.064333  2.5608 -0.2560   \n",
       "3  2019-01-11 15:08:05.800 -0.024000  0.957000 -0.073500  8.0610 -4.5244   \n",
       "4  2019-01-11 15:08:06.000 -0.028000  0.957667 -0.115000  2.4390 -1.5486   \n",
       "\n",
       "   Gyro_z ID Exercise Category   Set  \n",
       "0  0.9388  B    bench    heavy  30.0  \n",
       "1  2.1708  B    bench    heavy  30.0  \n",
       "2 -1.4146  B    bench    heavy  30.0  \n",
       "3 -2.0730  B    bench    heavy  30.0  \n",
       "4 -3.6098  B    bench    heavy  30.0  "
      ]
     },
     "execution_count": 6,
     "metadata": {},
     "output_type": "execute_result"
    }
   ],
   "source": [
    "data.head(5)"
   ]
  },
  {
   "cell_type": "code",
   "execution_count": 7,
   "metadata": {},
   "outputs": [],
   "source": [
    "# data = data.drop(columns=['Acc_x', 'Acc_y'])\n",
    "data = data.drop(data.columns[0:7], axis=1)"
   ]
  },
  {
   "cell_type": "code",
   "execution_count": 8,
   "metadata": {},
   "outputs": [],
   "source": [
    "data = data.dropna(subset=['Category','Set'])"
   ]
  },
  {
   "cell_type": "code",
   "execution_count": 9,
   "metadata": {},
   "outputs": [],
   "source": [
    "data = data.replace({'heav': 'heavy', 'raw': 'row' , 'reste':'rest'})"
   ]
  },
  {
   "cell_type": "code",
   "execution_count": 10,
   "metadata": {},
   "outputs": [
    {
     "data": {
      "text/html": [
       "<div>\n",
       "<style scoped>\n",
       "    .dataframe tbody tr th:only-of-type {\n",
       "        vertical-align: middle;\n",
       "    }\n",
       "\n",
       "    .dataframe tbody tr th {\n",
       "        vertical-align: top;\n",
       "    }\n",
       "\n",
       "    .dataframe thead th {\n",
       "        text-align: right;\n",
       "    }\n",
       "</style>\n",
       "<table border=\"1\" class=\"dataframe\">\n",
       "  <thead>\n",
       "    <tr style=\"text-align: right;\">\n",
       "      <th></th>\n",
       "      <th>ID</th>\n",
       "      <th>Exercise</th>\n",
       "      <th>Category</th>\n",
       "      <th>Set</th>\n",
       "    </tr>\n",
       "  </thead>\n",
       "  <tbody>\n",
       "    <tr>\n",
       "      <th>0</th>\n",
       "      <td>B</td>\n",
       "      <td>bench</td>\n",
       "      <td>heavy</td>\n",
       "      <td>30.0</td>\n",
       "    </tr>\n",
       "    <tr>\n",
       "      <th>1</th>\n",
       "      <td>B</td>\n",
       "      <td>bench</td>\n",
       "      <td>heavy</td>\n",
       "      <td>30.0</td>\n",
       "    </tr>\n",
       "    <tr>\n",
       "      <th>2</th>\n",
       "      <td>B</td>\n",
       "      <td>bench</td>\n",
       "      <td>heavy</td>\n",
       "      <td>30.0</td>\n",
       "    </tr>\n",
       "    <tr>\n",
       "      <th>3</th>\n",
       "      <td>B</td>\n",
       "      <td>bench</td>\n",
       "      <td>heavy</td>\n",
       "      <td>30.0</td>\n",
       "    </tr>\n",
       "    <tr>\n",
       "      <th>4</th>\n",
       "      <td>B</td>\n",
       "      <td>bench</td>\n",
       "      <td>heavy</td>\n",
       "      <td>30.0</td>\n",
       "    </tr>\n",
       "  </tbody>\n",
       "</table>\n",
       "</div>"
      ],
      "text/plain": [
       "  ID Exercise Category   Set\n",
       "0  B    bench    heavy  30.0\n",
       "1  B    bench    heavy  30.0\n",
       "2  B    bench    heavy  30.0\n",
       "3  B    bench    heavy  30.0\n",
       "4  B    bench    heavy  30.0"
      ]
     },
     "execution_count": 10,
     "metadata": {},
     "output_type": "execute_result"
    }
   ],
   "source": [
    "data.head(5)"
   ]
  },
  {
   "cell_type": "code",
   "execution_count": 11,
   "metadata": {},
   "outputs": [],
   "source": [
    "unique_ID = np.unique(data['ID'])"
   ]
  },
  {
   "cell_type": "code",
   "execution_count": 12,
   "metadata": {},
   "outputs": [],
   "source": [
    "unique_Ex = np.unique(data['Exercise'])"
   ]
  },
  {
   "cell_type": "code",
   "execution_count": 13,
   "metadata": {},
   "outputs": [],
   "source": [
    "unique_Cat = np.unique(data['Category'])"
   ]
  },
  {
   "cell_type": "code",
   "execution_count": 14,
   "metadata": {},
   "outputs": [],
   "source": [
    "unique_Set = np.unique(data['Set'])"
   ]
  },
  {
   "cell_type": "code",
   "execution_count": 15,
   "metadata": {},
   "outputs": [
    {
     "name": "stdout",
     "output_type": "stream",
     "text": [
      "['A' 'B' 'C' 'D' 'E']\n",
      "['bench' 'dead' 'ohp' 'rest' 'row' 'squat']\n",
      "['heavy' 'medium' 'sitting' 'standing']\n",
      "[  1.   2.   3.   4.   5.   6.   7.   8.   9.  10.  11.  12.  13.  14.\n",
      "  15.  16.  17.  18.  19.  20.  21.  22.  23.  24.  25.  26.  27.  28.\n",
      "  29.  30.  31.  32.  33.  34.  35.  36.  37.  38.  39.  40.  41.  42.\n",
      "  43.  44.  45.  47.  48.  49.  50.  51.  52.  53.  54.  55.  56.  57.\n",
      "  58.  60.  61.  62.  63.  64.  65.  66.  67.  68.  69.  70.  71.  72.\n",
      "  73.  74.  75.  76.  77.  78.  79.  80.  81.  82.  83.  84.  85.  86.\n",
      "  87.  88.  89.  90.  91.  92.  93. 111.]\n"
     ]
    }
   ],
   "source": [
    "print(unique_ID)\n",
    "print(unique_Ex)\n",
    "print(unique_Cat)\n",
    "print(unique_Set)\n"
   ]
  },
  {
   "cell_type": "code",
   "execution_count": 16,
   "metadata": {},
   "outputs": [
    {
     "name": "stdout",
     "output_type": "stream",
     "text": [
      "for A :\n",
      "['bench' 'dead' 'ohp' 'rest' 'row' 'squat']\n",
      "['heavy' 'medium' 'sitting' 'standing']\n",
      "[ 5.  9. 10. 11. 16. 18. 20. 22. 23. 24. 38. 39. 41. 45. 48. 51. 55. 56.\n",
      " 58. 60. 61. 66. 74. 75. 77. 82. 86. 88. 93.]\n",
      "for B :\n",
      "['bench' 'ohp' 'squat']\n",
      "['heavy' 'medium']\n",
      "[21. 26. 30. 37. 52. 81. 83. 84. 87.]\n",
      "for C :\n",
      "['bench' 'dead' 'ohp' 'row' 'squat']\n",
      "['heavy' 'medium']\n",
      "[ 4.  6. 12. 28. 33. 35. 36. 43. 47. 54. 64. 68. 72. 78. 79. 90. 92.]\n",
      "for D :\n",
      "['bench' 'row' 'squat']\n",
      "['heavy' 'medium']\n",
      "[ 2.  3. 14. 17. 29. 44. 57. 70. 85.]\n",
      "for E :\n",
      "['bench' 'dead' 'ohp' 'rest' 'row' 'squat']\n",
      "['heavy' 'medium' 'sitting' 'standing']\n",
      "[  1.   7.   8.  13.  15.  19.  25.  27.  31.  32.  34.  40.  42.  49.\n",
      "  50.  53.  62.  63.  65.  67.  69.  71.  73.  76.  80.  89.  91. 111.]\n"
     ]
    }
   ],
   "source": [
    "for id in np.unique(data['ID']):\n",
    "    dataid = data[data['ID'] == id]\n",
    "    print (f\"for {id} :\")\n",
    "    # print(np.unique(dataA['Set']))\n",
    "    print(np.unique(dataid['Exercise']))\n",
    "    print(np.unique(dataid['Category']))\n",
    "    print(np.unique(dataid['Set']))\n",
    "    "
   ]
  },
  {
   "cell_type": "code",
   "execution_count": 17,
   "metadata": {},
   "outputs": [
    {
     "name": "stderr",
     "output_type": "stream",
     "text": [
      "C:\\Users\\ryan\\AppData\\Local\\Temp\\ipykernel_10668\\2566142564.py:2: DeprecationWarning: DataFrameGroupBy.apply operated on the grouping columns. This behavior is deprecated, and in a future version of pandas the grouping columns will be excluded from the operation. Either pass `include_groups=False` to exclude the groupings or explicitly select the grouping columns after groupby to silence this warning.\n",
      "  dataset_transition = data.groupby('ID').apply(\n"
     ]
    },
    {
     "data": {
      "text/html": [
       "<div>\n",
       "<style scoped>\n",
       "    .dataframe tbody tr th:only-of-type {\n",
       "        vertical-align: middle;\n",
       "    }\n",
       "\n",
       "    .dataframe tbody tr th {\n",
       "        vertical-align: top;\n",
       "    }\n",
       "\n",
       "    .dataframe thead th {\n",
       "        text-align: right;\n",
       "    }\n",
       "</style>\n",
       "<table border=\"1\" class=\"dataframe\">\n",
       "  <thead>\n",
       "    <tr style=\"text-align: right;\">\n",
       "      <th></th>\n",
       "      <th>Transaction_ID</th>\n",
       "      <th>Items</th>\n",
       "    </tr>\n",
       "  </thead>\n",
       "  <tbody>\n",
       "    <tr>\n",
       "      <th>0</th>\n",
       "      <td>A</td>\n",
       "      <td>[(bench, heavy), (bench, heavy), (bench, heavy...</td>\n",
       "    </tr>\n",
       "    <tr>\n",
       "      <th>1</th>\n",
       "      <td>B</td>\n",
       "      <td>[(bench, heavy), (bench, heavy), (bench, heavy...</td>\n",
       "    </tr>\n",
       "    <tr>\n",
       "      <th>2</th>\n",
       "      <td>C</td>\n",
       "      <td>[(bench, heavy), (bench, heavy), (bench, heavy...</td>\n",
       "    </tr>\n",
       "    <tr>\n",
       "      <th>3</th>\n",
       "      <td>D</td>\n",
       "      <td>[(squat, medium), (squat, medium), (squat, med...</td>\n",
       "    </tr>\n",
       "    <tr>\n",
       "      <th>4</th>\n",
       "      <td>E</td>\n",
       "      <td>[(bench, heavy), (bench, heavy), (bench, heavy...</td>\n",
       "    </tr>\n",
       "  </tbody>\n",
       "</table>\n",
       "</div>"
      ],
      "text/plain": [
       "  Transaction_ID                                              Items\n",
       "0              A  [(bench, heavy), (bench, heavy), (bench, heavy...\n",
       "1              B  [(bench, heavy), (bench, heavy), (bench, heavy...\n",
       "2              C  [(bench, heavy), (bench, heavy), (bench, heavy...\n",
       "3              D  [(squat, medium), (squat, medium), (squat, med...\n",
       "4              E  [(bench, heavy), (bench, heavy), (bench, heavy..."
      ]
     },
     "execution_count": 17,
     "metadata": {},
     "output_type": "execute_result"
    }
   ],
   "source": [
    "# Group by ID and aggregate unique Exercises into a list\n",
    "dataset_transition = data.groupby('ID').apply(\n",
    "    lambda x: list(zip(x['Exercise'], x['Category']))\n",
    ").reset_index()\n",
    "dataset_transition.columns = ['Transaction_ID', 'Items']\n",
    "dataset_transition.head(5)"
   ]
  },
  {
   "cell_type": "code",
   "execution_count": 18,
   "metadata": {},
   "outputs": [
    {
     "name": "stdout",
     "output_type": "stream",
     "text": [
      "Nombre de transactions : 5\n"
     ]
    }
   ],
   "source": [
    "num_transactions = len(dataset_transition['Transaction_ID'].unique())\n",
    "print(f\"Nombre de transactions : {num_transactions}\")"
   ]
  },
  {
   "cell_type": "code",
   "execution_count": 19,
   "metadata": {},
   "outputs": [],
   "source": [
    "dataset_transition['Before_Unique_Count'] = dataset_transition['Items'].apply(len)"
   ]
  },
  {
   "cell_type": "code",
   "execution_count": 20,
   "metadata": {},
   "outputs": [],
   "source": [
    "dataset_transition['Items'] = dataset_transition['Items'].apply(lambda items: list(set(items)))"
   ]
  },
  {
   "cell_type": "code",
   "execution_count": 21,
   "metadata": {},
   "outputs": [
    {
     "name": "stdout",
     "output_type": "stream",
     "text": [
      "Transaction_ID: A\n",
      "Unique Items: [('ohp', 'heavy'), ('bench', 'heavy'), ('dead', 'heavy'), ('squat', 'heavy'), ('ohp', 'medium'), ('dead', 'medium'), ('rest', 'standing'), ('row', 'heavy'), ('squat', 'medium'), ('rest', 'sitting')]\n",
      "\n",
      "Transaction_ID: B\n",
      "Unique Items: [('ohp', 'medium'), ('squat', 'medium'), ('ohp', 'heavy'), ('bench', 'heavy')]\n",
      "\n",
      "Transaction_ID: C\n",
      "Unique Items: [('ohp', 'heavy'), ('bench', 'heavy'), ('row', 'medium'), ('squat', 'heavy'), ('dead', 'medium'), ('row', 'heavy')]\n",
      "\n",
      "Transaction_ID: D\n",
      "Unique Items: [('squat', 'medium'), ('row', 'medium'), ('squat', 'heavy'), ('bench', 'medium')]\n",
      "\n",
      "Transaction_ID: E\n",
      "Unique Items: [('ohp', 'heavy'), ('bench', 'heavy'), ('dead', 'heavy'), ('row', 'medium'), ('squat', 'heavy'), ('dead', 'medium'), ('bench', 'medium'), ('rest', 'standing'), ('row', 'heavy'), ('rest', 'sitting')]\n",
      "\n"
     ]
    }
   ],
   "source": [
    "# Affichage des valeurs uniques pour chaque ID\n",
    "for index, row in dataset_transition.iterrows():\n",
    "    print(f\"Transaction_ID: {row['Transaction_ID']}\")\n",
    "    print(f\"Unique Items: {row['Items']}\\n\")"
   ]
  },
  {
   "cell_type": "code",
   "execution_count": 22,
   "metadata": {},
   "outputs": [],
   "source": [
    "dataset_transition['After_Unique_Count'] = dataset_transition['Items'].apply(len)"
   ]
  },
  {
   "cell_type": "code",
   "execution_count": 23,
   "metadata": {},
   "outputs": [
    {
     "data": {
      "text/html": [
       "<div>\n",
       "<style scoped>\n",
       "    .dataframe tbody tr th:only-of-type {\n",
       "        vertical-align: middle;\n",
       "    }\n",
       "\n",
       "    .dataframe tbody tr th {\n",
       "        vertical-align: top;\n",
       "    }\n",
       "\n",
       "    .dataframe thead th {\n",
       "        text-align: right;\n",
       "    }\n",
       "</style>\n",
       "<table border=\"1\" class=\"dataframe\">\n",
       "  <thead>\n",
       "    <tr style=\"text-align: right;\">\n",
       "      <th></th>\n",
       "      <th>Transaction_ID</th>\n",
       "      <th>Items</th>\n",
       "      <th>Before_Unique_Count</th>\n",
       "      <th>After_Unique_Count</th>\n",
       "    </tr>\n",
       "  </thead>\n",
       "  <tbody>\n",
       "    <tr>\n",
       "      <th>0</th>\n",
       "      <td>A</td>\n",
       "      <td>[(ohp, heavy), (bench, heavy), (dead, heavy), ...</td>\n",
       "      <td>2988</td>\n",
       "      <td>10</td>\n",
       "    </tr>\n",
       "    <tr>\n",
       "      <th>1</th>\n",
       "      <td>B</td>\n",
       "      <td>[(ohp, medium), (squat, medium), (ohp, heavy),...</td>\n",
       "      <td>841</td>\n",
       "      <td>4</td>\n",
       "    </tr>\n",
       "    <tr>\n",
       "      <th>2</th>\n",
       "      <td>C</td>\n",
       "      <td>[(ohp, heavy), (bench, heavy), (row, medium), ...</td>\n",
       "      <td>1477</td>\n",
       "      <td>6</td>\n",
       "    </tr>\n",
       "    <tr>\n",
       "      <th>3</th>\n",
       "      <td>D</td>\n",
       "      <td>[(squat, medium), (row, medium), (squat, heavy...</td>\n",
       "      <td>1045</td>\n",
       "      <td>4</td>\n",
       "    </tr>\n",
       "    <tr>\n",
       "      <th>4</th>\n",
       "      <td>E</td>\n",
       "      <td>[(ohp, heavy), (bench, heavy), (dead, heavy), ...</td>\n",
       "      <td>2643</td>\n",
       "      <td>10</td>\n",
       "    </tr>\n",
       "  </tbody>\n",
       "</table>\n",
       "</div>"
      ],
      "text/plain": [
       "  Transaction_ID                                              Items  \\\n",
       "0              A  [(ohp, heavy), (bench, heavy), (dead, heavy), ...   \n",
       "1              B  [(ohp, medium), (squat, medium), (ohp, heavy),...   \n",
       "2              C  [(ohp, heavy), (bench, heavy), (row, medium), ...   \n",
       "3              D  [(squat, medium), (row, medium), (squat, heavy...   \n",
       "4              E  [(ohp, heavy), (bench, heavy), (dead, heavy), ...   \n",
       "\n",
       "   Before_Unique_Count  After_Unique_Count  \n",
       "0                 2988                  10  \n",
       "1                  841                   4  \n",
       "2                 1477                   6  \n",
       "3                 1045                   4  \n",
       "4                 2643                  10  "
      ]
     },
     "execution_count": 23,
     "metadata": {},
     "output_type": "execute_result"
    }
   ],
   "source": [
    "dataset_transition"
   ]
  },
  {
   "cell_type": "code",
   "execution_count": 24,
   "metadata": {},
   "outputs": [
    {
     "data": {
      "text/plain": [
       "[[('ohp', 'heavy'),\n",
       "  ('bench', 'heavy'),\n",
       "  ('dead', 'heavy'),\n",
       "  ('squat', 'heavy'),\n",
       "  ('ohp', 'medium'),\n",
       "  ('dead', 'medium'),\n",
       "  ('rest', 'standing'),\n",
       "  ('row', 'heavy'),\n",
       "  ('squat', 'medium'),\n",
       "  ('rest', 'sitting')],\n",
       " [('ohp', 'medium'),\n",
       "  ('squat', 'medium'),\n",
       "  ('ohp', 'heavy'),\n",
       "  ('bench', 'heavy')],\n",
       " [('ohp', 'heavy'),\n",
       "  ('bench', 'heavy'),\n",
       "  ('row', 'medium'),\n",
       "  ('squat', 'heavy'),\n",
       "  ('dead', 'medium'),\n",
       "  ('row', 'heavy')],\n",
       " [('squat', 'medium'),\n",
       "  ('row', 'medium'),\n",
       "  ('squat', 'heavy'),\n",
       "  ('bench', 'medium')],\n",
       " [('ohp', 'heavy'),\n",
       "  ('bench', 'heavy'),\n",
       "  ('dead', 'heavy'),\n",
       "  ('row', 'medium'),\n",
       "  ('squat', 'heavy'),\n",
       "  ('dead', 'medium'),\n",
       "  ('bench', 'medium'),\n",
       "  ('rest', 'standing'),\n",
       "  ('row', 'heavy'),\n",
       "  ('rest', 'sitting')]]"
      ]
     },
     "execution_count": 24,
     "metadata": {},
     "output_type": "execute_result"
    }
   ],
   "source": [
    "transactions = [\n",
    "    row['Items']  # Chaque ligne devient une liste de tuples\n",
    "    for _, row in dataset_transition.iterrows()\n",
    "]\n",
    "len(transactions)\n",
    "transactions "
   ]
  },
  {
   "cell_type": "code",
   "execution_count": 25,
   "metadata": {},
   "outputs": [
    {
     "name": "stdout",
     "output_type": "stream",
     "text": [
      "Tuples uniques dans toutes les transactions :\n",
      "12\n"
     ]
    }
   ],
   "source": [
    "# Extraire tous les items de toutes les transactions en une seule liste\n",
    "all_items = [item for transaction in transactions for item in transaction]\n",
    "\n",
    "# Supprimer les doublons entre toutes les transactions\n",
    "unique_items = list(set(all_items))\n",
    "\n",
    "print(\"Tuples uniques dans toutes les transactions :\")\n",
    "print(len(unique_items))\n"
   ]
  },
  {
   "cell_type": "code",
   "execution_count": 26,
   "metadata": {},
   "outputs": [],
   "source": [
    "transactions = [\n",
    "    row['Items']  # Chaque ligne devient une liste de tuples\n",
    "    for _, row in dataset_transition.iterrows()\n",
    "]"
   ]
  },
  {
   "cell_type": "code",
   "execution_count": 27,
   "metadata": {},
   "outputs": [
    {
     "data": {
      "text/plain": [
       "[[('ohp', 'heavy'),\n",
       "  ('bench', 'heavy'),\n",
       "  ('dead', 'heavy'),\n",
       "  ('squat', 'heavy'),\n",
       "  ('ohp', 'medium'),\n",
       "  ('dead', 'medium'),\n",
       "  ('rest', 'standing'),\n",
       "  ('row', 'heavy'),\n",
       "  ('squat', 'medium'),\n",
       "  ('rest', 'sitting')],\n",
       " [('ohp', 'medium'),\n",
       "  ('squat', 'medium'),\n",
       "  ('ohp', 'heavy'),\n",
       "  ('bench', 'heavy')],\n",
       " [('ohp', 'heavy'),\n",
       "  ('bench', 'heavy'),\n",
       "  ('row', 'medium'),\n",
       "  ('squat', 'heavy'),\n",
       "  ('dead', 'medium'),\n",
       "  ('row', 'heavy')],\n",
       " [('squat', 'medium'),\n",
       "  ('row', 'medium'),\n",
       "  ('squat', 'heavy'),\n",
       "  ('bench', 'medium')],\n",
       " [('ohp', 'heavy'),\n",
       "  ('bench', 'heavy'),\n",
       "  ('dead', 'heavy'),\n",
       "  ('row', 'medium'),\n",
       "  ('squat', 'heavy'),\n",
       "  ('dead', 'medium'),\n",
       "  ('bench', 'medium'),\n",
       "  ('rest', 'standing'),\n",
       "  ('row', 'heavy'),\n",
       "  ('rest', 'sitting')]]"
      ]
     },
     "execution_count": 27,
     "metadata": {},
     "output_type": "execute_result"
    }
   ],
   "source": [
    "transactions"
   ]
  },
  {
   "cell_type": "markdown",
   "metadata": {},
   "source": [
    "1- Write a function to generate the k-itemset candidates Ck\n"
   ]
  },
  {
   "cell_type": "code",
   "execution_count": 28,
   "metadata": {},
   "outputs": [],
   "source": [
    "# 1. Fonction pour générer les Ck (candidats k-itemsets)\n",
    "def generate_Ck(Lk_minus_1, k):\n",
    "    \"\"\"\n",
    "    Génère les candidats k-itemsets à partir des (k-1)-itemsets.\n",
    "    Lk_minus_1 : Liste des (k-1)-itemsets fréquents\n",
    "    k : Taille des itemsets à générer\n",
    "    \"\"\"\n",
    "    Ck = []\n",
    "    # On prend chaque combinaison d'éléments dans Lk-1 et on fait la jointure\n",
    "    for itemset1 in Lk_minus_1:\n",
    "        \n",
    "        for itemset2 in Lk_minus_1:\n",
    "            if itemset1 != itemset2:\n",
    "                # Crée une nouvelle combinaison en joignant itemset1 et itemset2\n",
    "                candidate = tuple(sorted(set(itemset1) | set(itemset2)))\n",
    "                if len(candidate) == k:  # Assure que la taille de l'itemset est correcte\n",
    "                    Ck.append(candidate)\n",
    "    return list(set(Ck))  # Retirer les doublons éventuels\n"
   ]
  },
  {
   "cell_type": "markdown",
   "metadata": {},
   "source": [
    "2- Write a function to calculate the support of the k-itemsets C"
   ]
  },
  {
   "cell_type": "code",
   "execution_count": 29,
   "metadata": {},
   "outputs": [],
   "source": [
    "# 2. Fonction pour calculer le support des Ck\n",
    "def calculate_support(Ck, transactions):\n",
    "    \"\"\"\n",
    "    Calcule le support des candidats Ck.\n",
    "    Ck : Liste des candidats k-itemsets\n",
    "    transactions : Liste des transactions\n",
    "    \"\"\"\n",
    "    transaction_count = len(transactions)\n",
    "    support = {}\n",
    "    \n",
    "    # Pour chaque k-itemset, on compte combien de transactions le contiennent\n",
    "    for candidate in Ck:\n",
    "        count = 0\n",
    "        for transaction in transactions:\n",
    "            if set(candidate).issubset(set(transaction)):  # Vérifier si l'itemset est dans la transaction\n",
    "                count += 1\n",
    "        support[candidate] = count / transaction_count  # Support = (nombre de transactions contenant l'itemset) / (total des transactions)\n",
    "    \n",
    "    return support"
   ]
  },
  {
   "cell_type": "markdown",
   "metadata": {},
   "source": [
    "3- Write a function to generate the frequent k-itemsets Lk\n"
   ]
  },
  {
   "cell_type": "code",
   "execution_count": 30,
   "metadata": {},
   "outputs": [],
   "source": [
    "# 3. Fonction pour générer les Lk (Fréquent k-itemsets)\n",
    "def generate_Lk(Ck, min_support, transactions):\n",
    "    \"\"\"\n",
    "    Génère les frequent k-itemsets Lk à partir des candidats Ck.\n",
    "    Ck : Liste des candidats k-itemsets\n",
    "    min_support : Seuil minimal de support\n",
    "    transactions : Liste des transactions\n",
    "    \"\"\"\n",
    "    support = calculate_support(Ck, transactions)\n",
    "    Lk = [itemset for itemset, sup in support.items() if sup >= min_support]\n",
    "    return Lk, support  # Retourne aussi le support pour chaque itemset\n"
   ]
  },
  {
   "cell_type": "code",
   "execution_count": 31,
   "metadata": {},
   "outputs": [
    {
     "name": "stdout",
     "output_type": "stream",
     "text": [
      "C1 (Candidats 1-itemsets) :  [(('ohp', 'heavy'),), (('bench', 'heavy'),), (('dead', 'heavy'),), (('row', 'medium'),), (('squat', 'heavy'),), (('ohp', 'medium'),), (('dead', 'medium'),), (('bench', 'medium'),), (('rest', 'standing'),), (('row', 'heavy'),), (('squat', 'medium'),), (('rest', 'sitting'),)]\n",
      "Support C1 :  {(('ohp', 'heavy'),): 0.8, (('bench', 'heavy'),): 0.8, (('dead', 'heavy'),): 0.4, (('row', 'medium'),): 0.6, (('squat', 'heavy'),): 0.8, (('ohp', 'medium'),): 0.4, (('dead', 'medium'),): 0.6, (('bench', 'medium'),): 0.4, (('rest', 'standing'),): 0.4, (('row', 'heavy'),): 0.6, (('squat', 'medium'),): 0.6, (('rest', 'sitting'),): 0.4}\n",
      "L1 (Fréquent 1-itemsets) :  [(('ohp', 'heavy'),), (('bench', 'heavy'),), (('dead', 'heavy'),), (('row', 'medium'),), (('squat', 'heavy'),), (('ohp', 'medium'),), (('dead', 'medium'),), (('bench', 'medium'),), (('rest', 'standing'),), (('row', 'heavy'),), (('squat', 'medium'),), (('rest', 'sitting'),)]\n",
      "Support L1 :  {(('ohp', 'heavy'),): 0.8, (('bench', 'heavy'),): 0.8, (('dead', 'heavy'),): 0.4, (('row', 'medium'),): 0.6, (('squat', 'heavy'),): 0.8, (('ohp', 'medium'),): 0.4, (('dead', 'medium'),): 0.6, (('bench', 'medium'),): 0.4, (('rest', 'standing'),): 0.4, (('row', 'heavy'),): 0.6, (('squat', 'medium'),): 0.6, (('rest', 'sitting'),): 0.4}\n",
      "C2 (Candidats 2-itemsets) :  [(('row', 'heavy'), ('squat', 'medium')), (('dead', 'heavy'), ('squat', 'heavy')), (('bench', 'heavy'), ('dead', 'medium')), (('squat', 'heavy'), ('squat', 'medium')), (('ohp', 'medium'), ('row', 'medium')), (('dead', 'medium'), ('row', 'medium')), (('rest', 'sitting'), ('squat', 'heavy')), (('ohp', 'heavy'), ('squat', 'heavy')), (('bench', 'heavy'), ('squat', 'medium')), (('bench', 'heavy'), ('ohp', 'medium')), (('bench', 'medium'), ('row', 'medium')), (('bench', 'heavy'), ('rest', 'standing')), (('row', 'medium'), ('squat', 'heavy')), (('bench', 'heavy'), ('rest', 'sitting')), (('rest', 'standing'), ('row', 'medium')), (('bench', 'heavy'), ('row', 'heavy')), (('ohp', 'medium'), ('squat', 'medium')), (('ohp', 'medium'), ('rest', 'standing')), (('bench', 'medium'), ('dead', 'medium')), (('row', 'heavy'), ('squat', 'heavy')), (('dead', 'heavy'), ('ohp', 'heavy')), (('dead', 'medium'), ('ohp', 'medium')), (('ohp', 'medium'), ('row', 'heavy')), (('ohp', 'medium'), ('rest', 'sitting')), (('bench', 'medium'), ('ohp', 'medium')), (('dead', 'medium'), ('rest', 'standing')), (('dead', 'medium'), ('squat', 'medium')), (('dead', 'medium'), ('rest', 'sitting')), (('bench', 'medium'), ('rest', 'standing')), (('bench', 'medium'), ('squat', 'medium')), (('bench', 'medium'), ('rest', 'sitting')), (('dead', 'medium'), ('row', 'heavy')), (('rest', 'standing'), ('squat', 'medium')), (('bench', 'heavy'), ('squat', 'heavy')), (('bench', 'heavy'), ('bench', 'medium')), (('bench', 'medium'), ('row', 'heavy')), (('dead', 'heavy'), ('row', 'medium')), (('rest', 'standing'), ('row', 'heavy')), (('rest', 'sitting'), ('row', 'medium')), (('ohp', 'heavy'), ('row', 'medium')), (('dead', 'heavy'), ('dead', 'medium')), (('ohp', 'medium'), ('squat', 'heavy')), (('dead', 'medium'), ('squat', 'heavy')), (('bench', 'medium'), ('squat', 'heavy')), (('dead', 'heavy'), ('squat', 'medium')), (('dead', 'heavy'), ('ohp', 'medium')), (('bench', 'heavy'), ('dead', 'heavy')), (('dead', 'heavy'), ('rest', 'standing')), (('bench', 'heavy'), ('ohp', 'heavy')), (('dead', 'heavy'), ('rest', 'sitting')), (('row', 'heavy'), ('row', 'medium')), (('rest', 'standing'), ('squat', 'heavy')), (('ohp', 'heavy'), ('squat', 'medium')), (('ohp', 'heavy'), ('ohp', 'medium')), (('dead', 'heavy'), ('row', 'heavy')), (('rest', 'sitting'), ('rest', 'standing')), (('ohp', 'heavy'), ('rest', 'standing')), (('rest', 'sitting'), ('squat', 'medium')), (('row', 'medium'), ('squat', 'medium')), (('ohp', 'heavy'), ('row', 'heavy')), (('ohp', 'heavy'), ('rest', 'sitting')), (('rest', 'sitting'), ('row', 'heavy')), (('bench', 'heavy'), ('row', 'medium')), (('bench', 'medium'), ('dead', 'heavy')), (('dead', 'medium'), ('ohp', 'heavy')), (('bench', 'medium'), ('ohp', 'heavy'))]\n",
      "Support C2 :  {(('row', 'heavy'), ('squat', 'medium')): 0.2, (('dead', 'heavy'), ('squat', 'heavy')): 0.4, (('bench', 'heavy'), ('dead', 'medium')): 0.6, (('squat', 'heavy'), ('squat', 'medium')): 0.4, (('ohp', 'medium'), ('row', 'medium')): 0.0, (('dead', 'medium'), ('row', 'medium')): 0.4, (('rest', 'sitting'), ('squat', 'heavy')): 0.4, (('ohp', 'heavy'), ('squat', 'heavy')): 0.6, (('bench', 'heavy'), ('squat', 'medium')): 0.4, (('bench', 'heavy'), ('ohp', 'medium')): 0.4, (('bench', 'medium'), ('row', 'medium')): 0.4, (('bench', 'heavy'), ('rest', 'standing')): 0.4, (('row', 'medium'), ('squat', 'heavy')): 0.6, (('bench', 'heavy'), ('rest', 'sitting')): 0.4, (('rest', 'standing'), ('row', 'medium')): 0.2, (('bench', 'heavy'), ('row', 'heavy')): 0.6, (('ohp', 'medium'), ('squat', 'medium')): 0.4, (('ohp', 'medium'), ('rest', 'standing')): 0.2, (('bench', 'medium'), ('dead', 'medium')): 0.2, (('row', 'heavy'), ('squat', 'heavy')): 0.6, (('dead', 'heavy'), ('ohp', 'heavy')): 0.4, (('dead', 'medium'), ('ohp', 'medium')): 0.2, (('ohp', 'medium'), ('row', 'heavy')): 0.2, (('ohp', 'medium'), ('rest', 'sitting')): 0.2, (('bench', 'medium'), ('ohp', 'medium')): 0.0, (('dead', 'medium'), ('rest', 'standing')): 0.4, (('dead', 'medium'), ('squat', 'medium')): 0.2, (('dead', 'medium'), ('rest', 'sitting')): 0.4, (('bench', 'medium'), ('rest', 'standing')): 0.2, (('bench', 'medium'), ('squat', 'medium')): 0.2, (('bench', 'medium'), ('rest', 'sitting')): 0.2, (('dead', 'medium'), ('row', 'heavy')): 0.6, (('rest', 'standing'), ('squat', 'medium')): 0.2, (('bench', 'heavy'), ('squat', 'heavy')): 0.6, (('bench', 'heavy'), ('bench', 'medium')): 0.2, (('bench', 'medium'), ('row', 'heavy')): 0.2, (('dead', 'heavy'), ('row', 'medium')): 0.2, (('rest', 'standing'), ('row', 'heavy')): 0.4, (('rest', 'sitting'), ('row', 'medium')): 0.2, (('ohp', 'heavy'), ('row', 'medium')): 0.4, (('dead', 'heavy'), ('dead', 'medium')): 0.4, (('ohp', 'medium'), ('squat', 'heavy')): 0.2, (('dead', 'medium'), ('squat', 'heavy')): 0.6, (('bench', 'medium'), ('squat', 'heavy')): 0.4, (('dead', 'heavy'), ('squat', 'medium')): 0.2, (('dead', 'heavy'), ('ohp', 'medium')): 0.2, (('bench', 'heavy'), ('dead', 'heavy')): 0.4, (('dead', 'heavy'), ('rest', 'standing')): 0.4, (('bench', 'heavy'), ('ohp', 'heavy')): 0.8, (('dead', 'heavy'), ('rest', 'sitting')): 0.4, (('row', 'heavy'), ('row', 'medium')): 0.4, (('rest', 'standing'), ('squat', 'heavy')): 0.4, (('ohp', 'heavy'), ('squat', 'medium')): 0.4, (('ohp', 'heavy'), ('ohp', 'medium')): 0.4, (('dead', 'heavy'), ('row', 'heavy')): 0.4, (('rest', 'sitting'), ('rest', 'standing')): 0.4, (('ohp', 'heavy'), ('rest', 'standing')): 0.4, (('rest', 'sitting'), ('squat', 'medium')): 0.2, (('row', 'medium'), ('squat', 'medium')): 0.2, (('ohp', 'heavy'), ('row', 'heavy')): 0.6, (('ohp', 'heavy'), ('rest', 'sitting')): 0.4, (('rest', 'sitting'), ('row', 'heavy')): 0.4, (('bench', 'heavy'), ('row', 'medium')): 0.4, (('bench', 'medium'), ('dead', 'heavy')): 0.2, (('dead', 'medium'), ('ohp', 'heavy')): 0.6, (('bench', 'medium'), ('ohp', 'heavy')): 0.2}\n",
      "L2 (Fréquent 2-itemsets) :  [(('row', 'heavy'), ('squat', 'medium')), (('dead', 'heavy'), ('squat', 'heavy')), (('bench', 'heavy'), ('dead', 'medium')), (('squat', 'heavy'), ('squat', 'medium')), (('dead', 'medium'), ('row', 'medium')), (('rest', 'sitting'), ('squat', 'heavy')), (('ohp', 'heavy'), ('squat', 'heavy')), (('bench', 'heavy'), ('squat', 'medium')), (('bench', 'heavy'), ('ohp', 'medium')), (('bench', 'medium'), ('row', 'medium')), (('bench', 'heavy'), ('rest', 'standing')), (('row', 'medium'), ('squat', 'heavy')), (('bench', 'heavy'), ('rest', 'sitting')), (('rest', 'standing'), ('row', 'medium')), (('bench', 'heavy'), ('row', 'heavy')), (('ohp', 'medium'), ('squat', 'medium')), (('ohp', 'medium'), ('rest', 'standing')), (('bench', 'medium'), ('dead', 'medium')), (('row', 'heavy'), ('squat', 'heavy')), (('dead', 'heavy'), ('ohp', 'heavy')), (('dead', 'medium'), ('ohp', 'medium')), (('ohp', 'medium'), ('row', 'heavy')), (('ohp', 'medium'), ('rest', 'sitting')), (('dead', 'medium'), ('rest', 'standing')), (('dead', 'medium'), ('squat', 'medium')), (('dead', 'medium'), ('rest', 'sitting')), (('bench', 'medium'), ('rest', 'standing')), (('bench', 'medium'), ('squat', 'medium')), (('bench', 'medium'), ('rest', 'sitting')), (('dead', 'medium'), ('row', 'heavy')), (('rest', 'standing'), ('squat', 'medium')), (('bench', 'heavy'), ('squat', 'heavy')), (('bench', 'heavy'), ('bench', 'medium')), (('bench', 'medium'), ('row', 'heavy')), (('dead', 'heavy'), ('row', 'medium')), (('rest', 'standing'), ('row', 'heavy')), (('rest', 'sitting'), ('row', 'medium')), (('ohp', 'heavy'), ('row', 'medium')), (('dead', 'heavy'), ('dead', 'medium')), (('ohp', 'medium'), ('squat', 'heavy')), (('dead', 'medium'), ('squat', 'heavy')), (('bench', 'medium'), ('squat', 'heavy')), (('dead', 'heavy'), ('squat', 'medium')), (('dead', 'heavy'), ('ohp', 'medium')), (('bench', 'heavy'), ('dead', 'heavy')), (('dead', 'heavy'), ('rest', 'standing')), (('bench', 'heavy'), ('ohp', 'heavy')), (('dead', 'heavy'), ('rest', 'sitting')), (('row', 'heavy'), ('row', 'medium')), (('rest', 'standing'), ('squat', 'heavy')), (('ohp', 'heavy'), ('squat', 'medium')), (('ohp', 'heavy'), ('ohp', 'medium')), (('dead', 'heavy'), ('row', 'heavy')), (('rest', 'sitting'), ('rest', 'standing')), (('ohp', 'heavy'), ('rest', 'standing')), (('rest', 'sitting'), ('squat', 'medium')), (('row', 'medium'), ('squat', 'medium')), (('ohp', 'heavy'), ('row', 'heavy')), (('ohp', 'heavy'), ('rest', 'sitting')), (('rest', 'sitting'), ('row', 'heavy')), (('bench', 'heavy'), ('row', 'medium')), (('bench', 'medium'), ('dead', 'heavy')), (('dead', 'medium'), ('ohp', 'heavy')), (('bench', 'medium'), ('ohp', 'heavy'))]\n",
      "Support L2 :  {(('row', 'heavy'), ('squat', 'medium')): 0.2, (('dead', 'heavy'), ('squat', 'heavy')): 0.4, (('bench', 'heavy'), ('dead', 'medium')): 0.6, (('squat', 'heavy'), ('squat', 'medium')): 0.4, (('ohp', 'medium'), ('row', 'medium')): 0.0, (('dead', 'medium'), ('row', 'medium')): 0.4, (('rest', 'sitting'), ('squat', 'heavy')): 0.4, (('ohp', 'heavy'), ('squat', 'heavy')): 0.6, (('bench', 'heavy'), ('squat', 'medium')): 0.4, (('bench', 'heavy'), ('ohp', 'medium')): 0.4, (('bench', 'medium'), ('row', 'medium')): 0.4, (('bench', 'heavy'), ('rest', 'standing')): 0.4, (('row', 'medium'), ('squat', 'heavy')): 0.6, (('bench', 'heavy'), ('rest', 'sitting')): 0.4, (('rest', 'standing'), ('row', 'medium')): 0.2, (('bench', 'heavy'), ('row', 'heavy')): 0.6, (('ohp', 'medium'), ('squat', 'medium')): 0.4, (('ohp', 'medium'), ('rest', 'standing')): 0.2, (('bench', 'medium'), ('dead', 'medium')): 0.2, (('row', 'heavy'), ('squat', 'heavy')): 0.6, (('dead', 'heavy'), ('ohp', 'heavy')): 0.4, (('dead', 'medium'), ('ohp', 'medium')): 0.2, (('ohp', 'medium'), ('row', 'heavy')): 0.2, (('ohp', 'medium'), ('rest', 'sitting')): 0.2, (('bench', 'medium'), ('ohp', 'medium')): 0.0, (('dead', 'medium'), ('rest', 'standing')): 0.4, (('dead', 'medium'), ('squat', 'medium')): 0.2, (('dead', 'medium'), ('rest', 'sitting')): 0.4, (('bench', 'medium'), ('rest', 'standing')): 0.2, (('bench', 'medium'), ('squat', 'medium')): 0.2, (('bench', 'medium'), ('rest', 'sitting')): 0.2, (('dead', 'medium'), ('row', 'heavy')): 0.6, (('rest', 'standing'), ('squat', 'medium')): 0.2, (('bench', 'heavy'), ('squat', 'heavy')): 0.6, (('bench', 'heavy'), ('bench', 'medium')): 0.2, (('bench', 'medium'), ('row', 'heavy')): 0.2, (('dead', 'heavy'), ('row', 'medium')): 0.2, (('rest', 'standing'), ('row', 'heavy')): 0.4, (('rest', 'sitting'), ('row', 'medium')): 0.2, (('ohp', 'heavy'), ('row', 'medium')): 0.4, (('dead', 'heavy'), ('dead', 'medium')): 0.4, (('ohp', 'medium'), ('squat', 'heavy')): 0.2, (('dead', 'medium'), ('squat', 'heavy')): 0.6, (('bench', 'medium'), ('squat', 'heavy')): 0.4, (('dead', 'heavy'), ('squat', 'medium')): 0.2, (('dead', 'heavy'), ('ohp', 'medium')): 0.2, (('bench', 'heavy'), ('dead', 'heavy')): 0.4, (('dead', 'heavy'), ('rest', 'standing')): 0.4, (('bench', 'heavy'), ('ohp', 'heavy')): 0.8, (('dead', 'heavy'), ('rest', 'sitting')): 0.4, (('row', 'heavy'), ('row', 'medium')): 0.4, (('rest', 'standing'), ('squat', 'heavy')): 0.4, (('ohp', 'heavy'), ('squat', 'medium')): 0.4, (('ohp', 'heavy'), ('ohp', 'medium')): 0.4, (('dead', 'heavy'), ('row', 'heavy')): 0.4, (('rest', 'sitting'), ('rest', 'standing')): 0.4, (('ohp', 'heavy'), ('rest', 'standing')): 0.4, (('rest', 'sitting'), ('squat', 'medium')): 0.2, (('row', 'medium'), ('squat', 'medium')): 0.2, (('ohp', 'heavy'), ('row', 'heavy')): 0.6, (('ohp', 'heavy'), ('rest', 'sitting')): 0.4, (('rest', 'sitting'), ('row', 'heavy')): 0.4, (('bench', 'heavy'), ('row', 'medium')): 0.4, (('bench', 'medium'), ('dead', 'heavy')): 0.2, (('dead', 'medium'), ('ohp', 'heavy')): 0.6, (('bench', 'medium'), ('ohp', 'heavy')): 0.2}\n"
     ]
    }
   ],
   "source": [
    "# Générer C1 (candidats 1-itemsets)\n",
    "# Liste de tous les items (exercice, catégorie) présents dans les transactions\n",
    "all_items = [item for transaction in transactions for item in transaction]\n",
    "unique_items = list(set(all_items))  # Eliminer les doublons\n",
    "C1 = [(item,) for item in unique_items]  # C1 est une liste de tuples avec un seul item\n",
    "print(\"C1 (Candidats 1-itemsets) : \", C1)\n",
    "\n",
    "# Calculer le support des C1\n",
    "support_C1 = calculate_support(C1, transactions)\n",
    "print(\"Support C1 : \", support_C1)\n",
    "\n",
    "# Générer L1 (fréquent 1-itemsets)\n",
    "min_support = 0.2  # Seuil minimum de support\n",
    "L1, support_L1 = generate_Lk(C1, min_support, transactions)\n",
    "print(\"L1 (Fréquent 1-itemsets) : \", L1)\n",
    "print(\"Support L1 : \", support_L1)\n",
    "\n",
    "# Générer C2 (candidats 2-itemsets) à partir de L1\n",
    "C2 = generate_Ck(L1, 2)\n",
    "print(\"C2 (Candidats 2-itemsets) : \", C2)\n",
    "\n",
    "# Calculer le support de C2\n",
    "support_C2 = calculate_support(C2, transactions)\n",
    "print(\"Support C2 : \", support_C2)\n",
    "\n",
    "# Générer L2 (fréquent 2-itemsets)\n",
    "L2, support_L2 = generate_Lk(C2, min_support, transactions)\n",
    "print(\"L2 (Fréquent 2-itemsets) : \", L2)\n",
    "print(\"Support L2 : \", support_L2)\n"
   ]
  },
  {
   "cell_type": "markdown",
   "metadata": {},
   "source": [
    "4- Fonction pour générer toutes les règles d'association à partir d'un Lk"
   ]
  },
  {
   "cell_type": "code",
   "execution_count": 59,
   "metadata": {},
   "outputs": [],
   "source": [
    "# Fonction pour calculer la confiance d'une règle d'association\n",
    "def calculate_confidence(rule, support):\n",
    "    \"\"\"\n",
    "    Calcule la confiance d'une règle d'association.\n",
    "    rule : La règle sous forme (antécédent, conséquent)\n",
    "    support : Dictionnaire avec le support des itemsets\n",
    "    \"\"\"\n",
    "    antecedent, consequent = rule\n",
    "    rule_support = support.get(antecedent + consequent, 0)\n",
    "    print(f\"support rule :{rule_support}\")\n",
    "    antecedent_support = support.get(antecedent, 0)\n",
    "    \n",
    "    if antecedent_support > 0:\n",
    "        confidence = rule_support / antecedent_support\n",
    "    else:\n",
    "        confidence = 0\n",
    "    \n",
    "    return confidence\n"
   ]
  },
  {
   "cell_type": "code",
   "execution_count": 82,
   "metadata": {},
   "outputs": [],
   "source": [
    "def generate_association_rules(Lk, support_Lk, min_confidence):\n",
    "    \"\"\"\n",
    "    Génère toutes les règles d'association à partir de Lk.\n",
    "    Lk : Liste des k-itemsets fréquents\n",
    "    support_Lk : Dictionnaire contenant le support pour chaque itemset\n",
    "    min_confidence : Seuil minimal de confiance\n",
    "    \"\"\"\n",
    "    rules = []\n",
    "\n",
    "    for itemset in Lk:\n",
    "        # Pour chaque itemset, on génère toutes les divisions possibles en (antécédent, conséquent)\n",
    "        for i in range(1, len(itemset)):\n",
    "            antecedents = [set(a) for a in itertools.combinations(itemset, i)]\n",
    "            for antecedent in antecedents:\n",
    "                consequent = set(itemset) - antecedent\n",
    "                antecedent = tuple(sorted(antecedent))\n",
    "                consequent = tuple(sorted(consequent))\n",
    "                # Calcul de la confiance\n",
    "                confidence = calculate_confidence(antecedent, consequent, support_Lk)\n",
    "                if confidence >= min_confidence:\n",
    "                    rules.append((antecedent, consequent, confidence))\n",
    "\n",
    "    return rules\n"
   ]
  },
  {
   "cell_type": "code",
   "execution_count": 83,
   "metadata": {},
   "outputs": [],
   "source": [
    "def calculate_confidence(antecedent, consequent, support_Lk):\n",
    "    \"\"\"\n",
    "    Calcule la confiance d'une règle d'association.\n",
    "    antecedent : Partie gauche de la règle (A)\n",
    "    consequent : Partie droite de la règle (B)\n",
    "    support_Lk : Dictionnaire contenant le support des itemsets\n",
    "    \"\"\"\n",
    "    # Support de A U B\n",
    "    union = tuple(sorted(set(antecedent) | set(consequent)))\n",
    "    support_union = support_Lk.get(union, 0)\n",
    "    # Support de A\n",
    "    support_antecedent = support_Lk.get(antecedent, 0)\n",
    "    \n",
    "    if support_antecedent == 0:  # Évite la division par zéro\n",
    "        return 0\n",
    "    return support_union / support_antecedent\n"
   ]
  },
  {
   "cell_type": "code",
   "execution_count": 67,
   "metadata": {},
   "outputs": [],
   "source": [
    "def generate_association_rules(Lk, support, min_confidence):\n",
    "    \"\"\"\n",
    "    Génère toutes les règles d'association à partir des frequent k-itemsets Lk.\n",
    "    Lk : Liste des frequent k-itemsets\n",
    "    support : Dictionnaire avec le support des k-itemsets\n",
    "    min_confidence : Seuil minimum de confiance pour une règle\n",
    "    \"\"\"\n",
    "    rules = []\n",
    "    print(support)\n",
    "    for itemset in Lk:\n",
    "        # Générer toutes les combinaisons possibles de sous-ensembles de l'itemset\n",
    "        for size in range(1, len(itemset)):\n",
    "            antecedents = list(itertools.combinations(itemset, size))  # Antécédents : sous-ensembles de taille 'size'\n",
    "            for antecedent in antecedents:\n",
    "                antecedent = tuple(sorted(antecedent))  # Assure que l'antécédent est trié\n",
    "                consequent = tuple(sorted(set(itemset) - set(antecedent)))  # Conséquent = le complément de l'antécédent dans l'itemset\n",
    "                \n",
    "                # Calculer la confiance de la règle\n",
    "                rule_support = support.get(itemset, 0)\n",
    "                antecedent_support = support.get(antecedent, 0)\n",
    "                print(antecedent_support)\n",
    "                \n",
    "                # Calculer la confiance\n",
    "                # if antecedent_support > 0:\n",
    "                #     confidence = rule_support / antecedent_support\n",
    "                # else:\n",
    "                #     confidence = 0\n",
    "                if antecedent_support > 0:\n",
    "                    confidence = calculate_confidence([antecedent,consequent] , support)\n",
    "                else:\n",
    "                    confidence = 0\n",
    "                \n",
    "                \n",
    "                # Ajouter la règle si elle respecte le seuil de confiance\n",
    "                if confidence <= min_confidence:\n",
    "                    rules.append((antecedent, consequent, confidence))\n",
    "    \n",
    "    return rules\n"
   ]
  },
  {
   "cell_type": "code",
   "execution_count": 84,
   "metadata": {},
   "outputs": [],
   "source": [
    "# Générer les C1\n",
    "all_items = [item for transaction in transactions for item in transaction]\n",
    "unique_items = list(set(all_items))  # Eliminer les doublons\n",
    "C1 = [(item,) for item in unique_items]  # C1 est une liste de tuples avec un seul item\n",
    "\n",
    "# Calculer le support de C1\n",
    "support_C1 = calculate_support(C1, transactions)\n",
    "\n",
    "# Générer L1 (fréquent 1-itemsets)\n",
    "min_support = 0.2  # Seuil minimum de support\n",
    "L1, support_L1 = generate_Lk(C1, min_support, transactions)\n",
    "\n",
    "# Générer C2\n",
    "C2 = generate_Ck(L1, 2)\n",
    "\n",
    "# Calculer le support de C2\n",
    "support_C2 = calculate_support(C2, transactions)\n",
    "\n",
    "# Générer L2\n",
    "L2, support_L2 = generate_Lk(C2, min_support, transactions)\n",
    "\n",
    "# Générer des règles d'association\n",
    "min_confidence = 0.1\n",
    "rules_L2 = generate_association_rules(L2, support_L2, min_confidence)\n",
    "\n",
    "# Afficher les règles générées\n",
    "for rule in rules_L2:\n",
    "    \n",
    "    antecedent, consequent, confidence = rule\n",
    "   \n",
    "    print(f\"Règle: {antecedent} -> {consequent}, Confiance: {confidence:.2f}\")\n"
   ]
  },
  {
   "cell_type": "code",
   "execution_count": null,
   "metadata": {},
   "outputs": [],
   "source": []
  }
 ],
 "metadata": {
  "kernelspec": {
   "display_name": "DmEnv",
   "language": "python",
   "name": "python3"
  },
  "language_info": {
   "codemirror_mode": {
    "name": "ipython",
    "version": 3
   },
   "file_extension": ".py",
   "mimetype": "text/x-python",
   "name": "python",
   "nbconvert_exporter": "python",
   "pygments_lexer": "ipython3",
   "version": "3.12.3"
  }
 },
 "nbformat": 4,
 "nbformat_minor": 2
}
